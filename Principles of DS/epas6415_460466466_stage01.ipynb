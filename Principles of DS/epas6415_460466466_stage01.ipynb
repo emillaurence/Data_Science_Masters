{
 "cells": [
  {
   "cell_type": "markdown",
   "metadata": {},
   "source": [
    "# Project Stage 01\n",
    "\n",
    "# COMP5310: Binary Classification Model to Predict Term Deposit Campaign Subscription\n",
    "\n",
    "## Bank Marketing Data Set\n",
    "The data is related with direct marketing campaigns of a European Bank. The marketing campaigns were based on phone calls. Often, more than one contact to the same client was required, in order to access if the product (bank term deposit) would be ('yes') or not ('no') subscribed. \n",
    "\n",
    "## Step 1: Reading the bank-additional-full.csv Training Data Set\n",
    "\n",
    "The `csv` module supports reading and writing of files in comma-separated values (CSV) and similar formats. We use DictReader since the first row of the training data set is a header. This produces a list of dictionaries, one dictionary for all responses. The `pprint` command below prints the dictionary corresponding the the first response.\n",
    "\n",
    "Note: Make sure that you have uploaded the `bank-additional-full.csv` in the Jupyter Home."
   ]
  },
  {
   "cell_type": "code",
   "execution_count": 1,
   "metadata": {
    "collapsed": false
   },
   "outputs": [
    {
     "name": "stdout",
     "output_type": "stream",
     "text": [
      "OrderedDict([('age', '56'),\n",
      "             ('job', 'housemaid'),\n",
      "             ('marital', 'married'),\n",
      "             ('education', 'basic.4y'),\n",
      "             ('default', 'no'),\n",
      "             ('housing', 'no'),\n",
      "             ('loan', 'no'),\n",
      "             ('contact', 'telephone'),\n",
      "             ('month', 'may'),\n",
      "             ('day_of_week', 'mon'),\n",
      "             ('duration', '261'),\n",
      "             ('campaign', '1'),\n",
      "             ('pdays', '999'),\n",
      "             ('previous', '0'),\n",
      "             ('poutcome', 'nonexistent'),\n",
      "             ('emp.var.rate', '1.1'),\n",
      "             ('cons.price.idx', '93.994'),\n",
      "             ('cons.conf.idx', '-36.4'),\n",
      "             ('euribor3m', '4.857'),\n",
      "             ('nr.employed', '5191'),\n",
      "             ('y', 'no')])\n"
     ]
    }
   ],
   "source": [
    "import csv\n",
    "import pprint\n",
    "import fileinput\n",
    "\n",
    "training_set = 'bank-additional-full.csv'\n",
    "\n",
    "with fileinput.FileInput(training_set, inplace=True) as file:\n",
    "    for line in file:\n",
    "        print(line.replace(\";\", \",\"), end='')\n",
    "\n",
    "data_bank_marketing = list(csv.DictReader(open(training_set)))\n",
    "pprint.pprint(data_bank_marketing[0])"
   ]
  },
  {
   "cell_type": "markdown",
   "metadata": {},
   "source": [
    "## Step 2: Defining constant for dictionary keys\n",
    "\n",
    "Before moving on, let's define constants for the keys of this dictionary that will make it a bit easier to use."
   ]
  },
  {
   "cell_type": "code",
   "execution_count": 2,
   "metadata": {
    "collapsed": true
   },
   "outputs": [],
   "source": [
    "AGE = 'age'\n",
    "JOB = 'job'\n",
    "MARITAL_STATUS = 'marital'\n",
    "EDUCATIONAL_ATTAINMENT = 'education'\n",
    "CREDIT_DEFAULT_FLAG = 'default'\n",
    "HOUSING_LOAN_FLAG = 'housing'\n",
    "PERSONAL_LOAN_FLAG = 'loan'\n",
    "CONTACT_CHANNEL_TYPE = 'contact'\n",
    "CONTACT_MONTH = 'month'\n",
    "CONTACT_DAY_OF_WEEK = 'day_of_week'\n",
    "LAST_CONTACT_DURATION = 'duration'\n",
    "CAMPAIGN_CONTACTS = 'campaign'\n",
    "PREVIOUS_CAMPAIGN_LAST_CONTACT = 'pdays'\n",
    "PREVIOUS_CAMPAIGN_OUTCOME = 'poutcome'\n",
    "PREVIOUS_CAMPAIGN_CONTACT = 'previous'\n",
    "QUARTERLY_EMPLOYMENT_VARIATION_RATE = 'emp.var.rate'\n",
    "MONTHLY_CONSUMER_PRICE_INDEX = 'cons.price.idx'\n",
    "MONTHLY_CONSUMER_CONFIDENCE_INDEX = 'cons.conf.idx'\n",
    "DAILY_EURIBOR_3MONTH_RATE = 'euribor3m'\n",
    "QUARTERLY_NUMBER_OF_EMPLOYEES = 'nr.employed'\n",
    "CURRENT_OUTCOME = 'y'"
   ]
  },
  {
   "cell_type": "markdown",
   "metadata": {},
   "source": [
    "## Step 3: Defining connections to AWS Postgres instance `comp5310.cge7dneddtek.ap-southeast-2.rds.amazonaws.com`\n",
    "\n",
    "First, connection will be establish to the postgresql database."
   ]
  },
  {
   "cell_type": "code",
   "execution_count": 123,
   "metadata": {
    "collapsed": false
   },
   "outputs": [
    {
     "name": "stdout",
     "output_type": "stream",
     "text": [
      "Test Connection Successful!\n"
     ]
    }
   ],
   "source": [
    "import psycopg2\n",
    "import os\n",
    "\n",
    "try: \n",
    "    conn = psycopg2.connect(database='COMP5310', host='comp5310.cge7dneddtek.ap-southeast-2.rds.amazonaws.com',\n",
    "                            user='epas6415', password='460466466')\n",
    "    print('Test Connection Successful!')\n",
    "except Exception as e:\n",
    "    print(\"Unable to connect to the database\")\n",
    "    print(e)"
   ]
  },
  {
   "cell_type": "markdown",
   "metadata": {},
   "source": [
    "## Step 4: Defining functions to query and execute SQL statements"
   ]
  },
  {
   "cell_type": "code",
   "execution_count": 17,
   "metadata": {
    "collapsed": true
   },
   "outputs": [],
   "source": [
    "#Query Function\n",
    "def pgquery( conn, sqlcmd, args ):\n",
    "   \"\"\" utility function to execute some SQL query statement\n",
    "       can take optional arguments to fill in (dictionary)\n",
    "       will print out on screen the result set of the query\n",
    "       error and transaction handling built-in \"\"\"\n",
    "   retval = False\n",
    "   query_result = []\n",
    "   with conn:\n",
    "      with conn.cursor() as cur:\n",
    "         try:\n",
    "            if args is None:\n",
    "                cur.execute(sqlcmd)\n",
    "            else:\n",
    "                cur.execute(sqlcmd, args)\n",
    "            for record in cur:\n",
    "                query_result.append(record)\n",
    "            retval = True\n",
    "         except Exception as e:\n",
    "            print(\"DB Read Error: \")\n",
    "            print(e)\n",
    "   return query_result\n",
    "\n",
    "#Execution Function\n",
    "def pgexec( conn, sqlcmd, args, msg ):\n",
    "   \"\"\" utility function to execute some SQL statement\n",
    "       can take optional arguments to fill in (dictionary)\n",
    "       error and transaction handling built-in \"\"\"\n",
    "   retval = False\n",
    "   with conn:\n",
    "      with conn.cursor() as cur:\n",
    "         try:\n",
    "            if args is None:\n",
    "               cur.execute(sqlcmd)\n",
    "            else:\n",
    "               cur.execute(sqlcmd, args)\n",
    "            if msg is not None:\n",
    "                print(\"Success: \" + msg)\n",
    "            retval = True\n",
    "         except Exception as e:\n",
    "            print(\"DB Error: \")\n",
    "            print(e)\n",
    "   return retval"
   ]
  },
  {
   "cell_type": "markdown",
   "metadata": {},
   "source": [
    "## Step 5: Create STG_BANK_TRAINING for Data Ingestion.\n",
    "\n",
    "The strategy is to load data in the staging table, STG_COMP5310, prior to cleansing and transformation."
   ]
  },
  {
   "cell_type": "code",
   "execution_count": 5,
   "metadata": {
    "collapsed": false
   },
   "outputs": [
    {
     "name": "stdout",
     "output_type": "stream",
     "text": [
      "Success: Create Table Staging Bank Training\n"
     ]
    },
    {
     "data": {
      "text/plain": [
       "True"
      ]
     },
     "execution_count": 5,
     "metadata": {},
     "output_type": "execute_result"
    }
   ],
   "source": [
    "staging_bank_training_schema = \"\"\"CREATE TABLE IF NOT EXISTS STG_BANK_TRAINING\n",
    "                      (\n",
    "                      age                VARCHAR(100)\n",
    "                      ,job               VARCHAR(100)\n",
    "                      ,marital           VARCHAR(100)\n",
    "                      ,education         VARCHAR(100)\n",
    "                      ,default_          VARCHAR(100)\n",
    "                      ,housing           VARCHAR(100)\n",
    "                      ,loan              VARCHAR(100)\n",
    "                      ,contact           VARCHAR(100)\n",
    "                      ,month_            VARCHAR(100)\n",
    "                      ,day_of_week       VARCHAR(100)\n",
    "                      ,duration          VARCHAR(100)\n",
    "                      ,campaign          VARCHAR(100)\n",
    "                      ,pdays             VARCHAR(100)\n",
    "                      ,previous          VARCHAR(100)\n",
    "                      ,poutcome          VARCHAR(100)\n",
    "                      ,emp_var_rate      VARCHAR(100)\n",
    "                      ,cons_price_idx    VARCHAR(100)\n",
    "                      ,cons_conf_idx     VARCHAR(100)\n",
    "                      ,euribor3m         VARCHAR(100)\n",
    "                      ,nr_employed       VARCHAR(100)\n",
    "                      ,y                 VARCHAR(100)\n",
    "                      )\"\"\"\n",
    "pgexec (conn, staging_bank_training_schema, None, \"Create Table Staging Bank Training\")"
   ]
  },
  {
   "cell_type": "markdown",
   "metadata": {},
   "source": [
    "## Step 6: Delete Data in STG_COMP5310\n",
    "\n",
    "Perform data cleanup before loading data in the staging."
   ]
  },
  {
   "cell_type": "code",
   "execution_count": 6,
   "metadata": {
    "collapsed": false
   },
   "outputs": [
    {
     "name": "stdout",
     "output_type": "stream",
     "text": [
      "Success: Deleted Data Successfully!\n"
     ]
    },
    {
     "data": {
      "text/plain": [
       "True"
      ]
     },
     "execution_count": 6,
     "metadata": {},
     "output_type": "execute_result"
    }
   ],
   "source": [
    "delete_stmt = \"\"\"DELETE FROM STG_BANK_TRAINING\"\"\"\n",
    "\n",
    "#Delete Staging Data\n",
    "pgexec (conn, delete_stmt, None, \"Deleted Data Successfully!\")\n"
   ]
  },
  {
   "cell_type": "markdown",
   "metadata": {},
   "source": [
    "## Step 7: Data Ingestion\n",
    "\n",
    "Open the command prompt and execute the below psql command to import data.\n",
    "\n",
    "`psql -h comp5310.cge7dneddtek.ap-southeast-2.rds.amazonaws.com -d COMP5310 -U epas6415 -c \"\\copy stg_bank_training from 'bank-additional-full.csv' with CSV header delimiter as ','\"`\n",
    "\n",
    "Note: Use the password `460466466`"
   ]
  },
  {
   "cell_type": "markdown",
   "metadata": {},
   "source": [
    "## Step 8: Create Fact and Dimension Tables for Data Model\n",
    "\n",
    "Create the following Facts and Dimension Tables:\n",
    "1. FACT_BANK_TRAINING\n",
    "2. FACT_BANK_TRAINING_KEY\n",
    "2. DIMN_CAMPAIGN_OUTCOME\n",
    "3. DIMN_CHANNEL_TYPE\n",
    "4. DIMN_DAY_WEEK\n",
    "5. DIMN_EDUCATIONAL_ATTAINMENT\n",
    "6. DIMN_FLAGS\n",
    "7. DIMN_JOB\n",
    "8. DIMN_MARITAL_STATUS\n",
    "9. DIMN_MONTH"
   ]
  },
  {
   "cell_type": "code",
   "execution_count": 36,
   "metadata": {
    "collapsed": false
   },
   "outputs": [
    {
     "name": "stdout",
     "output_type": "stream",
     "text": [
      "Success: Create Table Fact Bank Training\n",
      "Success: Create Table Fact Bank Key Training\n",
      "Success: Create Table Campaign Outcome\n",
      "Success: Create Table Channel Type\n",
      "Success: Create Table Day of the Week\n",
      "Success: Create Table Educational Attainment\n",
      "Success: Create Table Flags\n",
      "Success: Create Table Jobs\n",
      "Success: Create Table Marital Status\n",
      "Success: Create Table Month\n"
     ]
    },
    {
     "data": {
      "text/plain": [
       "True"
      ]
     },
     "execution_count": 36,
     "metadata": {},
     "output_type": "execute_result"
    }
   ],
   "source": [
    "fact_bank_training_schema = \"\"\"CREATE TABLE IF NOT EXISTS FACT_BANK_TRAINING\n",
    "                      (\n",
    "                       RECORD_KEY                          INTEGER\n",
    "                      ,AGE                                 INTEGER\n",
    "                      ,AGE_BUCKET                          VARCHAR(50)\n",
    "                      ,JOB                                 VARCHAR(50)\n",
    "                      ,MARITAL_STATUS                      VARCHAR(50)\n",
    "                      ,EDUCATIONAL_ATTAINMENT              VARCHAR(50)\n",
    "                      ,CREDIT_DEFAULT_FLAG                 VARCHAR(10)\n",
    "                      ,HOUSING_LOAN_FLAG                   VARCHAR(10)\n",
    "                      ,PERSONAL_LOAN_FLAG                  VARCHAR(10)\n",
    "                      ,CONTACT_CHANNEL_TYPE                VARCHAR(50)\n",
    "                      ,CONTACT_MONTH                       VARCHAR(50)\n",
    "                      ,CONTACT_DAY_OF_WEEK                 VARCHAR(50)\n",
    "                      ,LAST_CONTACT_DURATION               INTEGER\n",
    "                      ,CAMPAIGN_CONTACTS                   INTEGER\n",
    "                      ,PREVIOUS_CAMPAIGN_LAST_CONTACT      INTEGER\n",
    "                      ,PREVIOUS_CAMPAIGN_CONTACT           INTEGER\n",
    "                      ,PREVIOUS_CAMPAIGN_OUTCOME           VARCHAR(20)\n",
    "                      ,QUARTERLY_EMPLOYMENT_VARIATION_RATE DECIMAL(12,4)\n",
    "                      ,MONTHLY_CONSUMER_PRICE_INDEX        DECIMAL(12,4)\n",
    "                      ,MONTHLY_CONSUMER_CONFIDENCE_INDEX   DECIMAL(12,4)\n",
    "                      ,DAILY_EURIBOR_3MONTH_RATE           DECIMAL(12,4)\n",
    "                      ,QUARTERLY_NUMBER_OF_EMPLOYEES       DECIMAL(12,4)\n",
    "                      ,CURRENT_OUTCOME                     VARCHAR(10)\n",
    "                      )\"\"\"\n",
    "\n",
    "fact_bank_training_key_schema = \"\"\"CREATE TABLE IF NOT EXISTS FACT_BANK_TRAINING_KEY\n",
    "                      (\n",
    "                       AGE                                 INTEGER\n",
    "                      ,JOB                                 INTEGER\n",
    "                      ,MARITAL_STATUS                      INTEGER\n",
    "                      ,EDUCATIONAL_ATTAINMENT              INTEGER\n",
    "                      ,CREDIT_DEFAULT_FLAG                 INTEGER\n",
    "                      ,HOUSING_LOAN_FLAG                   INTEGER\n",
    "                      ,PERSONAL_LOAN_FLAG                  INTEGER\n",
    "                      ,CONTACT_CHANNEL_TYPE                INTEGER\n",
    "                      ,CONTACT_MONTH                       INTEGER\n",
    "                      ,CONTACT_DAY_OF_WEEK                 INTEGER\n",
    "                      ,LAST_CONTACT_DURATION               INTEGER\n",
    "                      ,CAMPAIGN_CONTACTS                   INTEGER\n",
    "                      ,PREVIOUS_CAMPAIGN_LAST_CONTACT      INTEGER\n",
    "                      ,PREVIOUS_CAMPAIGN_CONTACT           INTEGER\n",
    "                      ,PREVIOUS_CAMPAIGN_OUTCOME           INTEGER\n",
    "                      ,QUARTERLY_EMPLOYMENT_VARIATION_RATE DECIMAL(12,4)\n",
    "                      ,MONTHLY_CONSUMER_PRICE_INDEX        DECIMAL(12,4)\n",
    "                      ,MONTHLY_CONSUMER_CONFIDENCE_INDEX   DECIMAL(12,4)\n",
    "                      ,DAILY_EURIBOR_3MONTH_RATE           DECIMAL(12,4)\n",
    "                      ,QUARTERLY_NUMBER_OF_EMPLOYEES       DECIMAL(12,4)\n",
    "                      ,CURRENT_OUTCOME                     INTEGER\n",
    "                      )\"\"\"\n",
    "\n",
    "dimn_campaign_outcome_training_schema = \"\"\"CREATE TABLE IF NOT EXISTS DIMN_CAMPAIGN_OUTCOME\n",
    "                      (\n",
    "                       SOURCE_VALUE                        VARCHAR(50)\n",
    "                      ,TARGET_KEY                          INTEGER\n",
    "                      ,TARGET_VALUE                        VARCHAR(50)\n",
    "                      )\"\"\"\n",
    "\n",
    "dimn_channel_type_schema = \"\"\"CREATE TABLE IF NOT EXISTS DIMN_CHANNEL_TYPE\n",
    "                      (\n",
    "                       SOURCE_VALUE                        VARCHAR(50)\n",
    "                      ,TARGET_KEY                          INTEGER\n",
    "                      ,TARGET_VALUE                        VARCHAR(50)\n",
    "                      )\"\"\"\n",
    "\n",
    "dimn_day_week_schema = \"\"\"CREATE TABLE IF NOT EXISTS DIMN_DAY_WEEK\n",
    "                      (\n",
    "                       SOURCE_VALUE                        VARCHAR(50)\n",
    "                      ,TARGET_KEY                          INTEGER\n",
    "                      ,TARGET_VALUE                        VARCHAR(50)\n",
    "                      )\"\"\"\n",
    "\n",
    "dimn_educ_attain_schema = \"\"\"CREATE TABLE IF NOT EXISTS DIMN_EDUCATIONAL_ATTAINMENT\n",
    "                      (\n",
    "                       SOURCE_VALUE                        VARCHAR(50)\n",
    "                      ,TARGET_KEY                          INTEGER\n",
    "                      ,TARGET_VALUE                        VARCHAR(50)\n",
    "                      )\"\"\"\n",
    "\n",
    "dimn_flags_schema = \"\"\"CREATE TABLE IF NOT EXISTS DIMN_FLAGS\n",
    "                      (\n",
    "                       SOURCE_VALUE                        VARCHAR(50)\n",
    "                      ,TARGET_KEY                          INTEGER\n",
    "                      ,TARGET_VALUE                        VARCHAR(50)\n",
    "                      )\"\"\"\n",
    "\n",
    "dimn_job_schema = \"\"\"CREATE TABLE IF NOT EXISTS DIMN_JOB\n",
    "                      (\n",
    "                       SOURCE_VALUE                        VARCHAR(50)\n",
    "                      ,TARGET_KEY                          INTEGER\n",
    "                      ,TARGET_VALUE                        VARCHAR(50)\n",
    "                      )\"\"\"\n",
    "\n",
    "dimn_marital_status_schema = \"\"\"CREATE TABLE IF NOT EXISTS DIMN_MARITAL_STATUS\n",
    "                      (\n",
    "                       SOURCE_VALUE                        VARCHAR(50)\n",
    "                      ,TARGET_KEY                          INTEGER\n",
    "                      ,TARGET_VALUE                        VARCHAR(50)\n",
    "                      )\"\"\"\n",
    "\n",
    "dimn_month_schema = \"\"\"CREATE TABLE IF NOT EXISTS DIMN_MONTH\n",
    "                      (\n",
    "                       SOURCE_VALUE                        VARCHAR(50)\n",
    "                      ,TARGET_KEY                          INTEGER\n",
    "                      ,TARGET_VALUE                        VARCHAR(50)\n",
    "                      )\"\"\"\n",
    "\n",
    "pgexec (conn, fact_bank_training_schema, None, \"Create Table Fact Bank Training\")\n",
    "pgexec (conn, fact_bank_training_key_schema, None, \"Create Table Fact Bank Key Training\")\n",
    "pgexec (conn, dimn_campaign_outcome_training_schema, None, \"Create Table Campaign Outcome\")\n",
    "pgexec (conn, dimn_channel_type_schema, None, \"Create Table Channel Type\")\n",
    "pgexec (conn, dimn_day_week_schema, None, \"Create Table Day of the Week\")\n",
    "pgexec (conn, dimn_educ_attain_schema, None, \"Create Table Educational Attainment\")\n",
    "pgexec (conn, dimn_flags_schema, None, \"Create Table Flags\")\n",
    "pgexec (conn, dimn_job_schema, None, \"Create Table Jobs\")\n",
    "pgexec (conn, dimn_marital_status_schema, None, \"Create Table Marital Status\")\n",
    "pgexec (conn, dimn_month_schema, None, \"Create Table Month\")"
   ]
  },
  {
   "cell_type": "markdown",
   "metadata": {},
   "source": [
    "## Step 9: Insert Reference Values into the Dimension Tables\n",
    "\n",
    "Insert reference values for in the Dimension Tables."
   ]
  },
  {
   "cell_type": "code",
   "execution_count": 18,
   "metadata": {
    "collapsed": false
   },
   "outputs": [
    {
     "name": "stdout",
     "output_type": "stream",
     "text": [
      "Success: Inserted Data Successfully!\n",
      "Success: Inserted Data Successfully!\n",
      "Success: Inserted Data Successfully!\n",
      "Success: Inserted Data Successfully!\n",
      "Success: Inserted Data Successfully!\n",
      "Success: Inserted Data Successfully!\n",
      "Success: Inserted Data Successfully!\n",
      "Success: Inserted Data Successfully!\n",
      "Success: Inserted Data Successfully!\n",
      "Success: Inserted Data Successfully!\n",
      "Success: Inserted Data Successfully!\n",
      "Success: Inserted Data Successfully!\n",
      "Success: Inserted Data Successfully!\n",
      "Success: Inserted Data Successfully!\n",
      "Success: Inserted Data Successfully!\n",
      "Success: Inserted Data Successfully!\n",
      "Success: Inserted Data Successfully!\n",
      "Success: Inserted Data Successfully!\n",
      "Success: Inserted Data Successfully!\n",
      "Success: Inserted Data Successfully!\n",
      "Success: Inserted Data Successfully!\n",
      "Success: Inserted Data Successfully!\n",
      "Success: Inserted Data Successfully!\n",
      "Success: Inserted Data Successfully!\n",
      "Success: Inserted Data Successfully!\n",
      "Success: Inserted Data Successfully!\n",
      "Success: Inserted Data Successfully!\n",
      "Success: Inserted Data Successfully!\n",
      "Success: Inserted Data Successfully!\n",
      "Success: Inserted Data Successfully!\n",
      "Success: Inserted Data Successfully!\n",
      "Success: Inserted Data Successfully!\n",
      "Success: Inserted Data Successfully!\n",
      "Success: Inserted Data Successfully!\n",
      "Success: Inserted Data Successfully!\n",
      "Success: Inserted Data Successfully!\n",
      "Success: Inserted Data Successfully!\n",
      "Success: Inserted Data Successfully!\n",
      "Success: Inserted Data Successfully!\n",
      "Success: Inserted Data Successfully!\n",
      "Success: Inserted Data Successfully!\n",
      "Success: Inserted Data Successfully!\n",
      "Success: Inserted Data Successfully!\n",
      "Success: Inserted Data Successfully!\n",
      "Success: Inserted Data Successfully!\n",
      "Success: Inserted Data Successfully!\n",
      "Success: Inserted Data Successfully!\n",
      "Success: Inserted Data Successfully!\n",
      "Success: Inserted Data Successfully!\n",
      "Success: Inserted Data Successfully!\n",
      "Success: Inserted Data Successfully!\n"
     ]
    }
   ],
   "source": [
    "insert_statement = [ \"INSERT INTO DIMN_CAMPAIGN_OUTCOME VALUES('success',1,'Success');\"\n",
    ",\"INSERT INTO DIMN_CAMPAIGN_OUTCOME VALUES('failure',2,'Failure');\"\n",
    ",\"INSERT INTO DIMN_CAMPAIGN_OUTCOME VALUES('nonexistent',3,'Unknown');\"\n",
    ",\"INSERT INTO DIMN_CHANNEL_TYPE VALUES('cellular',1,'Cellular');\"\n",
    ",\"INSERT INTO DIMN_CHANNEL_TYPE VALUES('telephone',2,'Telephone');\"\n",
    ",\"INSERT INTO DIMN_DAY_WEEK VALUES('mon',1,'Monday');\"\n",
    ",\"INSERT INTO DIMN_DAY_WEEK VALUES('tue',2,'Tuesday');\"\n",
    ",\"INSERT INTO DIMN_DAY_WEEK VALUES('wed',3,'Wednesday');\"\n",
    ",\"INSERT INTO DIMN_DAY_WEEK VALUES('thu',4,'Thursday');\"\n",
    ",\"INSERT INTO DIMN_DAY_WEEK VALUES('fri',5,'Friday');\"\n",
    ",\"INSERT INTO DIMN_DAY_WEEK VALUES('sat',6,'Saturday');\"\n",
    ",\"INSERT INTO DIMN_DAY_WEEK VALUES('sun',7,'Sunday');\"\n",
    ",\"INSERT INTO DIMN_EDUCATIONAL_ATTAINMENT VALUES('illiterate',1,'Illiterate');\"\n",
    ",\"INSERT INTO DIMN_EDUCATIONAL_ATTAINMENT VALUES('basic.4y',2,'Primary First Stage');\"\n",
    ",\"INSERT INTO DIMN_EDUCATIONAL_ATTAINMENT VALUES('basic.6y',3,'Primary Second Stage');\"\n",
    ",\"INSERT INTO DIMN_EDUCATIONAL_ATTAINMENT VALUES('basic.9y',4,'Middle School');\"\n",
    ",\"INSERT INTO DIMN_EDUCATIONAL_ATTAINMENT VALUES('high.school',5,'High School');\"\n",
    ",\"INSERT INTO DIMN_EDUCATIONAL_ATTAINMENT VALUES('professional.course',6,'Professional Course');\"\n",
    ",\"INSERT INTO DIMN_EDUCATIONAL_ATTAINMENT VALUES('university.degree',7,'University Degree');\"\n",
    ",\"INSERT INTO DIMN_EDUCATIONAL_ATTAINMENT VALUES('unknown',8,'Unknown');\"\n",
    ",\"INSERT INTO DIMN_FLAGS VALUES('yes',1,'Yes');\"\n",
    ",\"INSERT INTO DIMN_FLAGS VALUES('no',2,'No');\"\n",
    ",\"INSERT INTO DIMN_FLAGS VALUES('unknown',3,'Unknown');\"\n",
    ",\"INSERT INTO DIMN_JOB VALUES('admin.',1,'Administration');\"\n",
    ",\"INSERT INTO DIMN_JOB VALUES('blue-collar',2,'Blue Collar');\"\n",
    ",\"INSERT INTO DIMN_JOB VALUES('entrepreneur',3,'Entrepreneur');\"\n",
    ",\"INSERT INTO DIMN_JOB VALUES('housemaid',4,'Housemaid');\"\n",
    ",\"INSERT INTO DIMN_JOB VALUES('management',5,'Management');\"\n",
    ",\"INSERT INTO DIMN_JOB VALUES('retired',6,'Retired');\"\n",
    ",\"INSERT INTO DIMN_JOB VALUES('self-employed',7,'Self-Employed');\"\n",
    ",\"INSERT INTO DIMN_JOB VALUES('services',8,'Services');\"\n",
    ",\"INSERT INTO DIMN_JOB VALUES('student',9,'Student');\"\n",
    ",\"INSERT INTO DIMN_JOB VALUES('technician',10,'Technician');\"\n",
    ",\"INSERT INTO DIMN_JOB VALUES('unemployed',11,'Unemployed');\"\n",
    ",\"INSERT INTO DIMN_JOB VALUES('unknown',12,'Unknown');\"\n",
    ",\"INSERT INTO DIMN_MARITAL_STATUS VALUES('single',1,'Single');\"\n",
    ",\"INSERT INTO DIMN_MARITAL_STATUS VALUES('married',2,'Married');\"\n",
    ",\"INSERT INTO DIMN_MARITAL_STATUS VALUES('divorced',3,'Divorced');\"\n",
    ",\"INSERT INTO DIMN_MARITAL_STATUS VALUES('unknown',4,'Unknown');\"\n",
    ",\"INSERT INTO DIMN_MONTH VALUES('jan',1,'January');\"\n",
    ",\"INSERT INTO DIMN_MONTH VALUES('feb',2,'February');\"\n",
    ",\"INSERT INTO DIMN_MONTH VALUES('mar',3,'March');\"\n",
    ",\"INSERT INTO DIMN_MONTH VALUES('apr',4,'April');\"\n",
    ",\"INSERT INTO DIMN_MONTH VALUES('may',5,'May');\"\n",
    ",\"INSERT INTO DIMN_MONTH VALUES('jun',6,'June');\"\n",
    ",\"INSERT INTO DIMN_MONTH VALUES('jul',7,'July');\"\n",
    ",\"INSERT INTO DIMN_MONTH VALUES('aug',8,'August');\"\n",
    ",\"INSERT INTO DIMN_MONTH VALUES('sep',9,'September');\"\n",
    ",\"INSERT INTO DIMN_MONTH VALUES('oct',10,'October');\"\n",
    ",\"INSERT INTO DIMN_MONTH VALUES('nov',11,'November');\"\n",
    ",\"INSERT INTO DIMN_MONTH VALUES ('dec',12,'December');\"]\n",
    "\n",
    "for ins_statement in insert_statement:\n",
    "    pgexec (conn, ins_statement, None, \"Inserted Data Successfully!\")"
   ]
  },
  {
   "cell_type": "markdown",
   "metadata": {},
   "source": [
    "## Step 10: Perform Data Cleansing and Transformation"
   ]
  },
  {
   "cell_type": "code",
   "execution_count": 119,
   "metadata": {
    "collapsed": false
   },
   "outputs": [
    {
     "name": "stdout",
     "output_type": "stream",
     "text": [
      "Success: Deleted Data Successfully!\n",
      "Success: Inserted Data Successfully!\n",
      "Success: Deleted Data Successfully!\n",
      "Success: Inserted Data Successfully!\n"
     ]
    },
    {
     "data": {
      "text/plain": [
       "True"
      ]
     },
     "execution_count": 119,
     "metadata": {},
     "output_type": "execute_result"
    }
   ],
   "source": [
    "delete_stmt = \"\"\"DELETE FROM FACT_BANK_TRAINING\"\"\"\n",
    "\n",
    "#Delete Staging Data\n",
    "pgexec (conn, delete_stmt, None, \"Deleted Data Successfully!\")\n",
    "\n",
    "insert_statement = \"\"\"INSERT INTO FACT_BANK_TRAINING \n",
    "                           SELECT\n",
    "                                  ROW_NUMBER() OVER(ORDER BY STG.age) AS RECORD_KEY\n",
    "                                 ,CAST(STG.age AS INTEGER) AS AGE\n",
    "                                 ,CASE\n",
    "                                  WHEN CAST(STG.age AS INTEGER) <= 20 THEN 'Less than 21'\n",
    "                                  WHEN CAST(STG.age AS INTEGER) BETWEEN 21 AND 30 THEN '21 to 30'\n",
    "                                  WHEN CAST(STG.age AS INTEGER) BETWEEN 31 AND 40 THEN '31 to 40'\n",
    "                                  WHEN CAST(STG.age AS INTEGER) BETWEEN 41 AND 50 THEN '41 to 50'\n",
    "                                  WHEN CAST(STG.age AS INTEGER) BETWEEN 51 AND 60 THEN '51 to 60'\n",
    "                                  WHEN CAST(STG.age AS INTEGER) BETWEEN 61 AND 70 THEN '61 to 70'\n",
    "                                  WHEN CAST(STG.age AS INTEGER) BETWEEN 71 AND 80 THEN '71 to 80'\n",
    "                                  WHEN CAST(STG.age AS INTEGER) > 80 THEN 'More than 80'\n",
    "                                  END AS AGE\n",
    "                                 ,JOB.TARGET_VALUE AS JOB\n",
    "                                 ,MRT.TARGET_VALUE AS  MARITAL_STATUS\n",
    "                                 ,EDC.TARGET_VALUE AS EDUCATIONAL_ATTAINMENT\n",
    "                                 ,CRD.TARGET_VALUE AS CREDIT_DEFAULT_FLAG\n",
    "                                 ,HSE.TARGET_VALUE AS HOUSING_LOAN_FLAG\n",
    "                                 ,PRL.TARGET_VALUE AS PERSONAL_LOAN_FLAG\n",
    "                                 ,CHN.TARGET_VALUE AS CONTACT_CHANNEL_TYPE\n",
    "                                 ,MNT.TARGET_VALUE AS CONTACT_MONTH\n",
    "                                 ,DWK.TARGET_VALUE AS CONTACT_DAY_OF_WEEK\n",
    "                                 ,CAST(STG.duration AS INTEGER) AS LAST_CONTACT_DURATION\n",
    "                                 ,CAST(STG.campaign AS INTEGER) AS CAMPAIGN_CONTACTS\n",
    "                                 ,CASE\n",
    "                                  WHEN STG.pdays = '999' THEN 0\n",
    "                                  ELSE CAST(STG.pdays AS INTEGER)\n",
    "                                  END                                       AS PREVIOUS_CAMPAIGN_LAST_CONTACT\n",
    "                                 ,CAST(STG.previous AS INTEGER)             AS PREVIOUS_CAMPAIGN_CONTACT\n",
    "                                 ,OTC.TARGET_VALUE AS PREVIOUS_CAMPAIGN_OUTCOME\n",
    "                                 ,CAST(STG.emp_var_rate AS DECIMAL(12,4))   AS QUARTERLY_EMPLOYMENT_VARIATION_RATE\n",
    "                                 ,CAST(STG.cons_price_idx AS DECIMAL(12,4)) AS MONTHLY_CONSUMER_PRICE_INDEX\n",
    "                                 ,CAST(STG.cons_conf_idx AS DECIMAL(12,4))  AS MONTHLY_CONSUMER_CONFIDENCE_INDEX\n",
    "                                 ,CAST(STG.euribor3m AS DECIMAL(12,4))      AS DAILY_EURIBOR_3MONTH_RATE\n",
    "                                 ,CAST(STG.nr_employed AS DECIMAL(12,4))    AS QUARTERLY_NUMBER_OF_EMPLOYEES\n",
    "                                 ,FNL.TARGET_VALUE                    AS CURRENT_OUTCOME\n",
    "                             FROM STG_BANK_TRAINING STG\n",
    "                       INNER JOIN DIMN_JOB JOB\n",
    "                               ON STG.JOB       = JOB.SOURCE_VALUE                     \n",
    "                       INNER JOIN DIMN_MARITAL_STATUS MRT\n",
    "                               ON STG.marital = MRT.SOURCE_VALUE\n",
    "                       INNER JOIN DIMN_EDUCATIONAL_ATTAINMENT EDC\n",
    "                               ON STG.education = EDC.SOURCE_VALUE\n",
    "                       INNER JOIN DIMN_FLAGS CRD\n",
    "                               ON STG.default_ = CRD.SOURCE_VALUE\n",
    "                       INNER JOIN DIMN_FLAGS HSE\n",
    "                               ON STG.housing = HSE.SOURCE_VALUE\n",
    "                       INNER JOIN DIMN_FLAGS PRL\n",
    "                               ON STG.loan = PRL.SOURCE_VALUE\n",
    "                       INNER JOIN DIMN_CHANNEL_TYPE CHN\n",
    "                               ON STG.contact = CHN.SOURCE_VALUE\n",
    "                       INNER JOIN DIMN_MONTH MNT\n",
    "                               ON STG.month_ = MNT.SOURCE_VALUE\n",
    "                       INNER JOIN DIMN_DAY_WEEK DWK\n",
    "                               ON STG.day_of_week = DWK.SOURCE_VALUE\n",
    "                       INNER JOIN DIMN_CAMPAIGN_OUTCOME OTC\n",
    "                               ON STG.poutcome = OTC.SOURCE_VALUE\n",
    "                       INNER JOIN DIMN_FLAGS FNL\n",
    "                               ON STG.y = FNL.SOURCE_VALUE\n",
    "                       \"\"\"\n",
    "\n",
    "#Insert Data into the Fact Table\n",
    "pgexec (conn, insert_statement, None, \"Inserted Data Successfully!\")\n",
    "\n",
    "delete_stmt = \"\"\"DELETE FROM FACT_BANK_TRAINING_KEY\"\"\"\n",
    "\n",
    "#Delete Staging Data\n",
    "pgexec (conn, delete_stmt, None, \"Deleted Data Successfully!\")\n",
    "\n",
    "insert_statement = \"\"\"INSERT INTO FACT_BANK_TRAINING_KEY\n",
    "                           SELECT\n",
    "                                  CAST(STG.age AS INTEGER) AS AGE\n",
    "                                 ,JOB.TARGET_KEY AS JOB\n",
    "                                 ,MRT.TARGET_KEY AS  MARITAL_STATUS\n",
    "                                 ,EDC.TARGET_KEY AS EDUCATIONAL_ATTAINMENT\n",
    "                                 ,CRD.TARGET_KEY AS CREDIT_DEFAULT_FLAG\n",
    "                                 ,HSE.TARGET_KEY AS HOUSING_LOAN_FLAG\n",
    "                                 ,PRL.TARGET_KEY AS PERSONAL_LOAN_FLAG\n",
    "                                 ,CHN.TARGET_KEY AS CONTACT_CHANNEL_TYPE\n",
    "                                 ,MNT.TARGET_KEY AS CONTACT_MONTH\n",
    "                                 ,DWK.TARGET_KEY AS CONTACT_DAY_OF_WEEK\n",
    "                                 ,CAST(STG.duration AS INTEGER) AS LAST_CONTACT_DURATION\n",
    "                                 ,CAST(STG.campaign AS INTEGER) AS CAMPAIGN_CONTACTS\n",
    "                                 ,CASE\n",
    "                                  WHEN STG.pdays = '999' THEN 0\n",
    "                                  ELSE CAST(STG.pdays AS INTEGER)\n",
    "                                  END                                       AS PREVIOUS_CAMPAIGN_LAST_CONTACT\n",
    "                                 ,CAST(STG.previous AS INTEGER)             AS PREVIOUS_CAMPAIGN_CONTACT\n",
    "                                 ,OTC.TARGET_KEY AS PREVIOUS_CAMPAIGN_OUTCOME\n",
    "                                 ,CAST(STG.emp_var_rate AS DECIMAL(12,4))   AS QUARTERLY_EMPLOYMENT_VARIATION_RATE\n",
    "                                 ,CAST(STG.cons_price_idx AS DECIMAL(12,4)) AS MONTHLY_CONSUMER_PRICE_INDEX\n",
    "                                 ,CAST(STG.cons_conf_idx AS DECIMAL(12,4))  AS MONTHLY_CONSUMER_CONFIDENCE_INDEX\n",
    "                                 ,CAST(STG.euribor3m AS DECIMAL(12,4))      AS DAILY_EURIBOR_3MONTH_RATE\n",
    "                                 ,CAST(STG.nr_employed AS DECIMAL(12,4))    AS QUARTERLY_NUMBER_OF_EMPLOYEES\n",
    "                                 ,FNL.TARGET_KEY                    AS CURRENT_OUTCOME\n",
    "                             FROM STG_BANK_TRAINING STG\n",
    "                       INNER JOIN DIMN_JOB JOB\n",
    "                               ON STG.JOB       = JOB.SOURCE_VALUE                     \n",
    "                       INNER JOIN DIMN_MARITAL_STATUS MRT\n",
    "                               ON STG.marital = MRT.SOURCE_VALUE\n",
    "                       INNER JOIN DIMN_EDUCATIONAL_ATTAINMENT EDC\n",
    "                               ON STG.education = EDC.SOURCE_VALUE\n",
    "                       INNER JOIN DIMN_FLAGS CRD\n",
    "                               ON STG.default_ = CRD.SOURCE_VALUE\n",
    "                       INNER JOIN DIMN_FLAGS HSE\n",
    "                               ON STG.housing = HSE.SOURCE_VALUE\n",
    "                       INNER JOIN DIMN_FLAGS PRL\n",
    "                               ON STG.loan = PRL.SOURCE_VALUE\n",
    "                       INNER JOIN DIMN_CHANNEL_TYPE CHN\n",
    "                               ON STG.contact = CHN.SOURCE_VALUE\n",
    "                       INNER JOIN DIMN_MONTH MNT\n",
    "                               ON STG.month_ = MNT.SOURCE_VALUE\n",
    "                       INNER JOIN DIMN_DAY_WEEK DWK\n",
    "                               ON STG.day_of_week = DWK.SOURCE_VALUE\n",
    "                       INNER JOIN DIMN_CAMPAIGN_OUTCOME OTC\n",
    "                               ON STG.poutcome = OTC.SOURCE_VALUE\n",
    "                       INNER JOIN DIMN_FLAGS FNL\n",
    "                               ON STG.y = FNL.SOURCE_VALUE\n",
    "                       \"\"\"\n",
    "\n",
    "#Insert Data into the Fact Table with Keys Only\n",
    "pgexec (conn, insert_statement, None, \"Inserted Data Successfully!\")"
   ]
  },
  {
   "cell_type": "markdown",
   "metadata": {},
   "source": [
    "## Step 11: Download data for visualisation using Tableau 10.2 Student Edition\n",
    "Open the command prompt and execute the below psql command to import data.\n",
    "\n",
    "`psql -h comp5310.cge7dneddtek.ap-southeast-2.rds.amazonaws.com -d COMP5310 -U epas6415 -c \"\\copy fact_bank_training to 'fact_bank_training.csv' with CSV header delimiter as ','\"`\n",
    "\n",
    "Note: Use the password `460466466`"
   ]
  },
  {
   "cell_type": "markdown",
   "metadata": {},
   "source": [
    "## Step 12.1: Descriptive Statistical Calculations\n",
    "Calculation basic statistical calculations."
   ]
  },
  {
   "cell_type": "code",
   "execution_count": 144,
   "metadata": {
    "collapsed": false
   },
   "outputs": [
    {
     "name": "stdout",
     "output_type": "stream",
     "text": [
      "Age\n",
      "Mode: 31\n",
      "Mean: 40.02\n",
      "Median: 38.00\n",
      "Standard deviation: 10.42\n"
     ]
    },
    {
     "data": {
      "image/png": "[encoded data removed]",
      "text/plain": [
       "<matplotlib.figure.Figure at 0x2566a9f7cc0>"
      ]
     },
     "metadata": {},
     "output_type": "display_data"
    },
    {
     "name": "stdout",
     "output_type": "stream",
     "text": [
      "\n",
      "\n",
      "Age Bucket\n",
      "Mode: 31 to 40\n",
      "\n",
      "\n",
      "Job\n",
      "Mode: Administration\n",
      "\n",
      "\n",
      "Marital Status\n",
      "Mode: Married\n",
      "\n",
      "\n",
      "Educational Attainment\n",
      "Mode: University Degree\n",
      "\n",
      "\n",
      "Credit Default Flag\n",
      "Mode: No\n",
      "\n",
      "\n",
      "Housing Loan Flag\n",
      "Mode: Yes\n",
      "\n",
      "\n",
      "Personal Loan Flag\n",
      "Mode: No\n",
      "\n",
      "\n",
      "Contact Channel Type\n",
      "Mode: Cellular\n",
      "\n",
      "\n",
      "Contact Month\n",
      "Mode: May\n",
      "\n",
      "\n",
      "Contact Day of Week\n",
      "Mode: Thursday\n",
      "\n",
      "\n",
      "Last Contact Duration\n",
      "Mode: 85\n",
      "Mean: 258.29\n",
      "Median: 180.00\n",
      "Standard deviation: 259.28\n"
     ]
    },
    {
     "data": {
      "image/png": "[encoded data removed]",
      "text/plain": [
       "<matplotlib.figure.Figure at 0x2566a218358>"
      ]
     },
     "metadata": {},
     "output_type": "display_data"
    },
    {
     "name": "stdout",
     "output_type": "stream",
     "text": [
      "\n",
      "\n",
      "Campaign Contacts\n",
      "Mode: 1\n",
      "Mean: 2.57\n",
      "Median: 2.00\n",
      "Standard deviation: 2.77\n"
     ]
    },
    {
     "data": {
      "image/png": "[encoded data removed]",
      "text/plain": [
       "<matplotlib.figure.Figure at 0x2565ed6fa58>"
      ]
     },
     "metadata": {},
     "output_type": "display_data"
    },
    {
     "name": "stdout",
     "output_type": "stream",
     "text": [
      "\n",
      "\n",
      "Previous Campaign Last Contact\n",
      "Mode: 0\n",
      "Mean: 0.22\n",
      "Median: 0.00\n",
      "Standard deviation: 1.35\n"
     ]
    },
    {
     "data": {
      "image/png": "[encoded data removed]",
      "text/plain": [
       "<matplotlib.figure.Figure at 0x2566de44470>"
      ]
     },
     "metadata": {},
     "output_type": "display_data"
    },
    {
     "name": "stdout",
     "output_type": "stream",
     "text": [
      "\n",
      "\n",
      "Previous Campaign Contact\n",
      "Mode: 0\n",
      "Mean: 0.17\n",
      "Median: 0.00\n",
      "Standard deviation: 0.49\n"
     ]
    },
    {
     "data": {
      "image/png": "[encoded data removed]",
      "text/plain": [
       "<matplotlib.figure.Figure at 0x2566df7c5f8>"
      ]
     },
     "metadata": {},
     "output_type": "display_data"
    },
    {
     "name": "stdout",
     "output_type": "stream",
     "text": [
      "\n",
      "\n",
      "Previous Campaign Outcome\n",
      "Mode: Unknown\n",
      "\n",
      "\n",
      "Campaign Outcome\n",
      "Mode: No\n",
      "\n",
      "\n"
     ]
    }
   ],
   "source": [
    "import numpy as np\n",
    "import pandas as pd\n",
    "import matplotlib.pyplot as plt\n",
    "import seaborn\n",
    "from collections import Counter\n",
    "\n",
    "def mode(mode_data, column_key):\n",
    "    c = Counter([row[column_key] for row in mode_data])\n",
    "    return c.most_common(1)[0][0]\n",
    "\n",
    "def is_float(input):\n",
    "  try:\n",
    "    num = float(input)\n",
    "  except ValueError:\n",
    "    return False\n",
    "  return True\n",
    "\n",
    "def is_int(input):\n",
    "  try:\n",
    "    num = int(input)\n",
    "  except ValueError:\n",
    "    return False\n",
    "  return True\n",
    "\n",
    "key = [ 'Record Key'\n",
    "       ,'Age'\n",
    "       ,'Age Bucket'\n",
    "       ,'Job'\n",
    "       ,'Marital Status'\n",
    "       ,'Educational Attainment'\n",
    "       ,'Credit Default Flag'\n",
    "       ,'Housing Loan Flag'\n",
    "       ,'Personal Loan Flag'\n",
    "       ,'Contact Channel Type'\n",
    "       ,'Contact Month'\n",
    "       ,'Contact Day of Week'\n",
    "       ,'Last Contact Duration'\n",
    "       ,'Campaign Contacts'\n",
    "       ,'Previous Campaign Last Contact'\n",
    "       ,'Previous Campaign Contact'\n",
    "       ,'Previous Campaign Outcome'\n",
    "       ,'Quarterly Employment Variation Rate'\n",
    "       ,'Monthly Consumer Price Index'\n",
    "       ,'Monthly Consumer Confidence Index'\n",
    "       ,'Daily Euribor 3Month Rat'\n",
    "       ,'Quarterly Number of Employees'\n",
    "       ,'Campaign Outcome']\n",
    " \n",
    "#Select Data from FACT_BANK_TRAINING_KEY\n",
    "query_stmt = \"SELECT * FROM FACT_BANK_TRAINING;\"\n",
    "\n",
    "#Execute Query Statement\n",
    "data = pgquery (conn, query_stmt, None)\n",
    "\n",
    "new_data = []\n",
    "for row in data:\n",
    "    new_data.append(dict(zip(key, row)))\n",
    "\n",
    "key = [ 'Age'\n",
    "       ,'Age Bucket'\n",
    "       ,'Job'\n",
    "       ,'Marital Status'\n",
    "       ,'Educational Attainment'\n",
    "       ,'Credit Default Flag'\n",
    "       ,'Housing Loan Flag'\n",
    "       ,'Personal Loan Flag'\n",
    "       ,'Contact Channel Type'\n",
    "       ,'Contact Month'\n",
    "       ,'Contact Day of Week'\n",
    "       ,'Last Contact Duration'\n",
    "       ,'Campaign Contacts'\n",
    "       ,'Previous Campaign Last Contact'\n",
    "       ,'Previous Campaign Contact'\n",
    "       ,'Previous Campaign Outcome'\n",
    "       ,'Campaign Outcome']\n",
    "\n",
    "#Bin Width\n",
    "binwidth = 1\n",
    "\n",
    "for column_key in key:\n",
    "    v = [row[column_key] for row in new_data] # grab values\n",
    "    print(column_key)\n",
    "    print(\"Mode:\", mode(new_data, column_key))\n",
    "    if is_float(v[0]) or is_int(v[0]):\n",
    "        v = list(map(int, v))\n",
    "        print(\"Mean: {:.2f}\".format(np.nanmean(v)))\n",
    "        print(\"Median: {:.2f}\".format(np.nanmedian(v)))\n",
    "        print(\"Standard deviation: {:.2f}\".format(np.nanstd(v)))\n",
    "        plt.hist(v,bins=range(min(v), max(v) + binwidth, binwidth))\n",
    "        plt.show()\n",
    "    print('\\n')\n",
    "   "
   ]
  },
  {
   "cell_type": "markdown",
   "metadata": {},
   "source": [
    "## Step 12.2: Calculate Correlation Coefficient between Attributes\n",
    "\n",
    "Using Pearson Correlation Method, correlation coefficient between each attribute will calculated."
   ]
  },
  {
   "cell_type": "code",
   "execution_count": 125,
   "metadata": {
    "collapsed": false
   },
   "outputs": [
    {
     "data": {
      "image/png": "[encoded data removed]",
      "text/plain": [
       "<matplotlib.figure.Figure at 0x256603fdf60>"
      ]
     },
     "metadata": {},
     "output_type": "display_data"
    }
   ],
   "source": [
    "from matplotlib import font_manager \n",
    "\n",
    "#Set Default Font to Times New Roman\n",
    "font_manager.findfont('Times New Roman')\n",
    "plt.rc('font', family='serif') \n",
    "plt.rc('font', serif='Times New Roman') \n",
    "\n",
    "#Data Frame Columns\n",
    "df_column = [ 'Age'\n",
    "             ,'Job'\n",
    "             ,'Marital Status'\n",
    "             ,'Educational Attainment'\n",
    "             ,'Credit Default Flag'\n",
    "             ,'Housing Loan Flag'\n",
    "             ,'Personal Loan Flag'\n",
    "             ,'Contact Channel Type'\n",
    "             ,'Contact Month'\n",
    "             ,'Contact Day of Week'\n",
    "             ,'Last Contact Duration'\n",
    "             ,'Campaign Contacts'\n",
    "             ,'Previous Campaign Last Contact'\n",
    "             ,'Previous Campaign Contact'\n",
    "             ,'Previous Campaign Outcome'\n",
    "             ,'Quarterly Employment Variation Rate'\n",
    "             ,'Monthly Consumer Price Index'\n",
    "             ,'Monthly Consumer Confidence Index'\n",
    "             ,'Daily Euribor 3Month Rat'\n",
    "             ,'Quarterly Number of Employees'\n",
    "             ,'Campaign Outcome']\n",
    "\n",
    "#Select Data from FACT_BANK_TRAINING_KEY\n",
    "query_stmt = \"SELECT * FROM FACT_BANK_TRAINING_KEY\"\n",
    "\n",
    "#Execute Query Statement\n",
    "data = pgquery (conn, query_stmt, None)\n",
    "\n",
    "#Generate Data Frame\n",
    "df = pd.DataFrame(data, columns=df_column)\n",
    "\n",
    "#Generate Correlation Coefficient\n",
    "corr_df = df.corr(method='pearson')\n",
    "\n",
    "#Generate Heatmap\n",
    "# Create a mask to display only the lower triangle of the matrix (since it's mirrored around its\n",
    "# top-left to bottom-right diagonal).\n",
    "mask = np.zeros_like(corr_df)\n",
    "mask[np.triu_indices_from(mask)] = True\n",
    "# Create the heatmap using seaborn library.\n",
    "# List if colormaps (parameter 'cmap') is available here: http://matplotlib.org/examples/color/colormaps_reference.html\n",
    "seaborn.heatmap(corr_df, cmap='Spectral', vmax=1.0, vmin=-1.0, mask=mask, linewidths=2.5)\n",
    "\n",
    "# Show the plot we reorient the labels for each column and row to make them easier to read.\n",
    "\n",
    "\n",
    "plt.yticks(rotation=0)\n",
    "plt.xticks(rotation=90)\n",
    "plt.show()"
   ]
  }
 ],
 "metadata": {
  "kernelspec": {
   "display_name": "Python 3",
   "language": "python",
   "name": "python3"
  },
  "language_info": {
   "codemirror_mode": {
    "name": "ipython",
    "version": 3
   },
   "file_extension": ".py",
   "mimetype": "text/x-python",
   "name": "python",
   "nbconvert_exporter": "python",
   "pygments_lexer": "ipython3",
   "version": "3.6.0"
  }
 },
 "nbformat": 4,
 "nbformat_minor": 2
}
